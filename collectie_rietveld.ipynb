{
 "cells": [
  {
   "cell_type": "markdown",
   "metadata": {},
   "source": [
    "# Geheugen van Nederland\n",
    "### Collectie Rietveld\n",
    "pilot visualisatie van collectie Rietveld linked open data  \n",
    "11/10/2023 (D/M/Y)  \n",
    "Sablina Vis"
   ]
  },
  {
   "cell_type": "markdown",
   "metadata": {},
   "source": [
    "### Inhoudsopgave"
   ]
  },
  {
   "cell_type": "code",
   "execution_count": 19,
   "metadata": {},
   "outputs": [],
   "source": [
    "# https://sparqlwrapper.readthedocs.io/en/latest/main.html\n",
    "# https://pypi.org/project/sparql-dataframe/\n",
    "# pip install git+https://github.com/lawlesst/sparql-dataframe.git\n",
    "import sparql_dataframe\n",
    "import pandas as pd"
   ]
  },
  {
   "cell_type": "code",
   "execution_count": 13,
   "metadata": {},
   "outputs": [],
   "source": [
    "# API Rijksmuseum, zie https://data.netwerkdigitaalerfgoed.nl/Rijksmuseum/collection/\n",
    "api_endpoint = \"https://api.data.netwerkdigitaalerfgoed.nl/datasets/Rijksmuseum/collection/services/collection/sparql\""
   ]
  },
  {
   "cell_type": "markdown",
   "metadata": {},
   "source": [
    "### Query 1: \n",
    "objecten | beschrijving | periode | locatie | lat | long  \n",
    "genereert een dataset met 50 objecten die de bovengenoemde properties heeft."
   ]
  },
  {
   "cell_type": "code",
   "execution_count": 36,
   "metadata": {},
   "outputs": [
    {
     "name": "stdout",
     "output_type": "stream",
     "text": [
      "(50, 8)\n"
     ]
    },
    {
     "data": {
      "text/html": [
       "<div>\n",
       "<style scoped>\n",
       "    .dataframe tbody tr th:only-of-type {\n",
       "        vertical-align: middle;\n",
       "    }\n",
       "\n",
       "    .dataframe tbody tr th {\n",
       "        vertical-align: top;\n",
       "    }\n",
       "\n",
       "    .dataframe thead th {\n",
       "        text-align: right;\n",
       "    }\n",
       "</style>\n",
       "<table border=\"1\" class=\"dataframe\">\n",
       "  <thead>\n",
       "    <tr style=\"text-align: right;\">\n",
       "      <th></th>\n",
       "      <th>voorwerp</th>\n",
       "      <th>description</th>\n",
       "      <th>eventDate</th>\n",
       "      <th>locatie</th>\n",
       "      <th>lat</th>\n",
       "      <th>long</th>\n",
       "    </tr>\n",
       "  </thead>\n",
       "  <tbody>\n",
       "    <tr>\n",
       "      <th>0</th>\n",
       "      <td>Danish chair</td>\n",
       "      <td>Gerrit Rietveld was één van de eerste Nederlan...</td>\n",
       "      <td>1946 - 1950</td>\n",
       "      <td>Amsterdam</td>\n",
       "      <td>52.350000</td>\n",
       "      <td>4.916667</td>\n",
       "    </tr>\n",
       "    <tr>\n",
       "      <th>1</th>\n",
       "      <td>Danish chair</td>\n",
       "      <td>Gerrit Rietveld was één van de eerste Nederlan...</td>\n",
       "      <td>1946 - 1950</td>\n",
       "      <td>Amsterdam</td>\n",
       "      <td>52.350000</td>\n",
       "      <td>4.916667</td>\n",
       "    </tr>\n",
       "    <tr>\n",
       "      <th>2</th>\n",
       "      <td>Deense stoel</td>\n",
       "      <td>Gerrit Rietveld was één van de eerste Nederlan...</td>\n",
       "      <td>1946 - 1950</td>\n",
       "      <td>Amsterdam</td>\n",
       "      <td>52.350000</td>\n",
       "      <td>4.916667</td>\n",
       "    </tr>\n",
       "    <tr>\n",
       "      <th>3</th>\n",
       "      <td>Deense stoel</td>\n",
       "      <td>Gerrit Rietveld was één van de eerste Nederlan...</td>\n",
       "      <td>1946 - 1950</td>\n",
       "      <td>Amsterdam</td>\n",
       "      <td>52.350000</td>\n",
       "      <td>4.916667</td>\n",
       "    </tr>\n",
       "    <tr>\n",
       "      <th>4</th>\n",
       "      <td>Zigzagstoel met gaten en korte armleggers</td>\n",
       "      <td>In de loop van de jaren 30 ontwierp Rietveld v...</td>\n",
       "      <td>1932</td>\n",
       "      <td>Utrecht</td>\n",
       "      <td>52.083333</td>\n",
       "      <td>5.133333</td>\n",
       "    </tr>\n",
       "  </tbody>\n",
       "</table>\n",
       "</div>"
      ],
      "text/plain": [
       "                                    voorwerp  \\\n",
       "0                               Danish chair   \n",
       "1                               Danish chair   \n",
       "2                               Deense stoel   \n",
       "3                               Deense stoel   \n",
       "4  Zigzagstoel met gaten en korte armleggers   \n",
       "\n",
       "                                         description    eventDate    locatie  \\\n",
       "0  Gerrit Rietveld was één van de eerste Nederlan...  1946 - 1950  Amsterdam   \n",
       "1  Gerrit Rietveld was één van de eerste Nederlan...  1946 - 1950  Amsterdam   \n",
       "2  Gerrit Rietveld was één van de eerste Nederlan...  1946 - 1950  Amsterdam   \n",
       "3  Gerrit Rietveld was één van de eerste Nederlan...  1946 - 1950  Amsterdam   \n",
       "4  In de loop van de jaren 30 ontwierp Rietveld v...         1932    Utrecht   \n",
       "\n",
       "         lat      long  \n",
       "0  52.350000  4.916667  \n",
       "1  52.350000  4.916667  \n",
       "2  52.350000  4.916667  \n",
       "3  52.350000  4.916667  \n",
       "4  52.083333  5.133333  "
      ]
     },
     "execution_count": 36,
     "metadata": {},
     "output_type": "execute_result"
    }
   ],
   "source": [
    "# query eigenschappen voorwerpen\n",
    "query_object_property = \"\"\"\n",
    "PREFIX wgs84: <http://www.w3.org/2003/01/geo/wgs84_pos#>\n",
    "PREFIX dct: <http://purl.org/dc/terms/>\n",
    "PREFIX skos: <http://www.w3.org/2004/02/skos/core#>\n",
    "PREFIX dc: <http://purl.org/dc/elements/1.1/>\n",
    "\n",
    "SELECT DISTINCT ?linkRijksmuseum ?ontwerperNaam ?voorwerp ?description ?eventDate ?locatie ?lat ?long\n",
    "\n",
    "WHERE {\n",
    "?linkRijksmuseum dc:description ?description;\n",
    "                dct:created ?eventDate;\n",
    "                dc:title ?eventLabel;\n",
    "                dct:spatial ?spat.\n",
    "                                                        \n",
    "?linkRijksmuseum dc:creator ?ontwerper ;\n",
    "                dc:title ?voorwerp .\n",
    "                                                                          \n",
    "?spat skos:prefLabel ?locatie ;\n",
    "      wgs84:lat ?lat ;\n",
    "      wgs84:long ?long.\n",
    "?ontwerper skos:prefLabel ?ontwerperNaam .\n",
    "\n",
    "FILTER(lang(?eventLabel)='nl' && lang(?description)='nl'&& lang(?eventDate)='nl')\n",
    "FILTER(?ontwerperNaam =\"Rietveld, Gerrit Thomas\"@nl)\n",
    "      \n",
    "}  \n",
    "\n",
    "\"\"\"\n",
    "\n",
    "df_object_property = sparql_dataframe.get(api_endpoint, query_object_property)\n",
    "type(df_object_property)\n",
    "print(df_object_property.shape)\n",
    "df_object_property[['voorwerp', 'description', 'eventDate', 'locatie', 'lat', 'long']].head()"
   ]
  },
  {
   "cell_type": "markdown",
   "metadata": {},
   "source": [
    "### Query 2\n"
   ]
  },
  {
   "cell_type": "code",
   "execution_count": null,
   "metadata": {},
   "outputs": [],
   "source": []
  }
 ],
 "metadata": {
  "kernelspec": {
   "display_name": "Python 3",
   "language": "python",
   "name": "python3"
  },
  "language_info": {
   "codemirror_mode": {
    "name": "ipython",
    "version": 3
   },
   "file_extension": ".py",
   "mimetype": "text/x-python",
   "name": "python",
   "nbconvert_exporter": "python",
   "pygments_lexer": "ipython3",
   "version": "3.11.4"
  },
  "orig_nbformat": 4
 },
 "nbformat": 4,
 "nbformat_minor": 2
}
